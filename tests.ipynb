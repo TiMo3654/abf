{
 "cells": [
  {
   "cell_type": "code",
   "execution_count": 34,
   "metadata": {},
   "outputs": [
    {
     "data": {
      "image/png": "[encoded data removed]",
      "text/plain": [
       "<Figure size 700x350 with 1 Axes>"
      ]
     },
     "metadata": {},
     "output_type": "display_data"
    }
   ],
   "source": [
    "from util import *\n",
    "\n",
    "# a = generate_participant()\n",
    "\n",
    "arena = {}\n",
    "\n",
    "layout_zone = {\"xmin\"   : 0,\n",
    "               \"ymin\"   : 0,\n",
    "               \"width\"  : 120,\n",
    "               \"height\" : 120}\n",
    "\n",
    "for i in range(3):\n",
    "    arena[str(i)] = generate_participant()\n",
    "\n",
    "plot_participants(arena)\n",
    "\n",
    "a = calculate_overlap(arena['0'], arena['1'])\n",
    "\n",
    "# print(arena['0'])\n",
    "# print(arena['1'])\n",
    "\n",
    "# calculate_layout_area(layout_zone)\n",
    "\n",
    "# calculate_leeway_coefficient(layout_zone, arena)\n",
    "\n",
    "# print(a)\n",
    "\n",
    "# print(a[0])\n",
    "# calculate_protrusion(layout_zone, arena['0'])"
   ]
  },
  {
   "cell_type": "code",
   "execution_count": 35,
   "metadata": {},
   "outputs": [
    {
     "data": {
      "text/plain": [
       "{}"
      ]
     },
     "execution_count": 35,
     "metadata": {},
     "output_type": "execute_result"
    }
   ],
   "source": [
    "ov, _ = calculate_overlap(arena['1'], arena['2'])\n",
    "\n",
    "ov"
   ]
  },
  {
   "cell_type": "code",
   "execution_count": 6,
   "metadata": {},
   "outputs": [
    {
     "data": {
      "text/plain": [
       "['north', 'east']"
      ]
     },
     "execution_count": 6,
     "metadata": {},
     "output_type": "execute_result"
    }
   ],
   "source": [
    "edges = [True, False, True, False]\n",
    "\n",
    "protruded_zone_edges             = [edge \n",
    "                                    for i,edge in enumerate(['north', 'west', 'east', 'south']) \n",
    "                                    if edges[i]]\n",
    "\n",
    "protruded_zone_edges"
   ]
  },
  {
   "cell_type": "code",
   "execution_count": 8,
   "metadata": {},
   "outputs": [
    {
     "ename": "TypeError",
     "evalue": "myfun() takes 1 positional argument but 2 were given",
     "output_type": "error",
     "traceback": [
      "\u001b[0;31m---------------------------------------------------------------------------\u001b[0m",
      "\u001b[0;31mTypeError\u001b[0m                                 Traceback (most recent call last)",
      "Cell \u001b[0;32mIn[8], line 5\u001b[0m\n\u001b[1;32m      1\u001b[0m \u001b[38;5;28;01mdef\u001b[39;00m \u001b[38;5;21mmyfun\u001b[39m(x):\n\u001b[1;32m      3\u001b[0m     \u001b[38;5;28;01mreturn\u001b[39;00m x\u001b[38;5;241m*\u001b[39mx\n\u001b[0;32m----> 5\u001b[0m \u001b[43mmyfun\u001b[49m\u001b[43m(\u001b[49m\u001b[38;5;241;43m2\u001b[39;49m\u001b[43m,\u001b[49m\u001b[38;5;241;43m3\u001b[39;49m\u001b[43m)\u001b[49m\n",
      "\u001b[0;31mTypeError\u001b[0m: myfun() takes 1 positional argument but 2 were given"
     ]
    }
   ],
   "source": [
    "def myfun(x):\n",
    "\n",
    "    return x*x\n",
    "\n",
    "myfun(2,3)"
   ]
  },
  {
   "cell_type": "code",
   "execution_count": 14,
   "metadata": {},
   "outputs": [
    {
     "data": {
      "text/plain": [
       "('prone', (-1, 7))"
      ]
     },
     "execution_count": 14,
     "metadata": {},
     "output_type": "execute_result"
    }
   ],
   "source": [
    "calculate_protrusion(layout_zone, arena['0'])"
   ]
  },
  {
   "cell_type": "code",
   "execution_count": 15,
   "metadata": {},
   "outputs": [
    {
     "data": {
      "text/plain": [
       "{'idx': '0',\n",
       " 'xmin': 80,\n",
       " 'ymin': -7,\n",
       " 'width': 41,\n",
       " 'height': 24,\n",
       " 'clashes': {},\n",
       " 'aversions': {},\n",
       " 'inference': 0,\n",
       " 'connections': {},\n",
       " 'turmoil': 0,\n",
       " 'wounds': [],\n",
       " 'freespace': {},\n",
       " 'secondary-freespace-north-east': {},\n",
       " 'secondary-freespace-south-east': {},\n",
       " 'secondary-freespace-south-west': {},\n",
       " 'secondary-freespace-north-west': {}}"
      ]
     },
     "execution_count": 15,
     "metadata": {},
     "output_type": "execute_result"
    }
   ],
   "source": [
    "arena['0']"
   ]
  },
  {
   "cell_type": "code",
   "execution_count": 26,
   "metadata": {},
   "outputs": [],
   "source": [
    "participant = arena.pop('2')\n",
    "\n",
    "p2 = arena.pop('1')"
   ]
  },
  {
   "cell_type": "code",
   "execution_count": 28,
   "metadata": {},
   "outputs": [],
   "source": [
    "p1n = hustle(participant, p2)"
   ]
  },
  {
   "cell_type": "code",
   "execution_count": 29,
   "metadata": {},
   "outputs": [
    {
     "data": {
      "image/png": "[encoded data removed]",
      "text/plain": [
       "<Figure size 700x350 with 1 Axes>"
      ]
     },
     "metadata": {},
     "output_type": "display_data"
    },
    {
     "data": {
      "text/plain": [
       "0"
      ]
     },
     "execution_count": 29,
     "metadata": {},
     "output_type": "execute_result"
    }
   ],
   "source": [
    "p2['xmin'] = p1n[0]\n",
    "p2['ymin'] = p1n[1]\n",
    "\n",
    "arena['2'] = participant\n",
    "\n",
    "arena['1'] = p2\n",
    "\n",
    "plot_participants(arena)"
   ]
  },
  {
   "cell_type": "code",
   "execution_count": 33,
   "metadata": {},
   "outputs": [
    {
     "data": {
      "text/plain": [
       "({}, [False, False, False, False, False, False])"
      ]
     },
     "execution_count": 33,
     "metadata": {},
     "output_type": "execute_result"
    }
   ],
   "source": [
    "calculate_overlap(arena['0'], arena['1'])"
   ]
  },
  {
   "cell_type": "code",
   "execution_count": null,
   "metadata": {},
   "outputs": [],
   "source": [
    "free_edges = ['north','west', 'east', 'south']\n",
    "\n",
    "\n",
    "calclulate_free_space(participant, free_edges, arena, layout_zone)"
   ]
  },
  {
   "cell_type": "code",
   "execution_count": null,
   "metadata": {},
   "outputs": [],
   "source": [
    "arena['2']"
   ]
  },
  {
   "cell_type": "code",
   "execution_count": null,
   "metadata": {},
   "outputs": [],
   "source": [
    "a = [1]\n",
    "\n",
    "if a:\n",
    "    print('1')\n",
    "else:\n",
    "    print('2')"
   ]
  },
  {
   "cell_type": "code",
   "execution_count": null,
   "metadata": {},
   "outputs": [],
   "source": [
    "superior_dict = {\n",
    "    'dict1': {'key1': 'value1', 'key2': 1, 'key3': 2},\n",
    "    'dict2': {'key1': 'value4', 'key2': 5, 'key3': 2},\n",
    "    'dict3': {'key1': 'value7', 'key2': 1, 'key3': 2},\n",
    "}\n",
    "\n",
    "key_to_retrieve = 'key2'\n",
    "\n",
    "width = [sub_dict.get(key_to_retrieve) for sub_dict in superior_dict.values()]\n",
    "\n",
    "key_to_retrieve = 'key3'\n",
    "\n",
    "height = [sub_dict.get(key_to_retrieve) for sub_dict in superior_dict.values()]\n",
    "\n",
    "area = sum([a * b for a, b in zip(width, height)])\n",
    "\n",
    "print(area)"
   ]
  },
  {
   "cell_type": "code",
   "execution_count": null,
   "metadata": {},
   "outputs": [],
   "source": [
    "calculate_euclidean_distance(arena['0'], arena['1'])"
   ]
  },
  {
   "cell_type": "code",
   "execution_count": null,
   "metadata": {},
   "outputs": [],
   "source": [
    "boolean_list = [False, True, False, False]\n",
    "\n",
    "if any(boolean_list):\n",
    "    print(\"At least one value is True.\")\n",
    "else:\n",
    "    print(\"All values are False.\")"
   ]
  }
 ],
 "metadata": {
  "kernelspec": {
   "display_name": "abf",
   "language": "python",
   "name": "python3"
  },
  "language_info": {
   "codemirror_mode": {
    "name": "ipython",
    "version": 3
   },
   "file_extension": ".py",
   "mimetype": "text/x-python",
   "name": "python",
   "nbconvert_exporter": "python",
   "pygments_lexer": "ipython3",
   "version": "3.12.0"
  }
 },
 "nbformat": 4,
 "nbformat_minor": 2
}
