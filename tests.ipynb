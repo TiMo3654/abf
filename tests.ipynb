{
 "cells": [
  {
   "cell_type": "code",
   "execution_count": null,
   "metadata": {},
   "outputs": [],
   "source": [
    "from util import *\n",
    "from generation import *\n",
    "from swarm import *\n",
    "from metrics import *\n",
    "from position_export import *\n",
    "\n",
    "from multiprocess.pool import ThreadPool\n",
    "\n",
    "import random\n",
    "import time\n",
    "from IPython import display\n",
    "import pylab as pl\n"
   ]
  },
  {
   "cell_type": "code",
   "execution_count": null,
   "metadata": {},
   "outputs": [],
   "source": [
    "conciliation_quota  = 0.5\n",
    "\n",
    "critical_amount     = 100"
   ]
  },
  {
   "cell_type": "code",
   "execution_count": null,
   "metadata": {},
   "outputs": [],
   "source": [
    "# #Random small\n",
    "# layout_zone         = {\"xmin\"   : 0, \"ymin\"   : 0, \"width\"  : 70, \"height\" : 70}\n",
    "# participants        = generate_unconnected_participants(10, layout_zone, 30, 30, 666)\n",
    "# ds_goal             = 20.0\n",
    "\n",
    "# #Random\n",
    "# layout_zone         = {\"xmin\"   : 0, \"ymin\"   : 0, \"width\"  : 100, \"height\" : 100}\n",
    "# participants        = generate_unconnected_participants(20, layout_zone, 30, 30, 420)\n",
    "# ds_goal             = 15.0\n",
    "\n",
    "# #Random with nets\n",
    "# layout_zone         = {\"xmin\"   : 0, \"ymin\"   : 0, \"width\"  : 80, \"height\" : 80}\n",
    "# participants        = generate_connected_participants(10, 5, 3, layout_zone, 30, 30, 69)    # {\"xmin\"   : 0, \"ymin\"   : 0, \"width\"  : 80, \"height\" : 80} + (10, 5, 3, layout_zone, 30, 30, 69)-> Oscillation\n",
    "# ds_goal             = 13.0\n",
    "\n",
    "# # Perfect square\n",
    "# layout_zone         = {\"xmin\"   : 0, \"ymin\"   : 0, \"width\"  : 100, \"height\" : 100}\n",
    "# participants        = generate_unconnected_equal_quadratic_participants(9, layout_zone, 31, 420)\n",
    "# ds_goal             = 0.48\n",
    "\n",
    "# Wheel\n",
    "layout_zone         = {\"xmin\"   : 0, \"ymin\"   : 0, \"width\"  : 300, \"height\" : 300}\n",
    "participants        = generate_unconnected_wheel_participants(layout_zone, 100, 999) \n",
    "ds_goal             = 0.48\n",
    "\n",
    "# # Zone filling participants\n",
    "# layout_zone         = {\"xmin\"   : 0, \"ymin\"   : 0, \"width\"  : 100, \"height\" : 100}\n",
    "# participants        = generate_unconnected_zone_filling_participants(5, 3, layout_zone, 777)\n",
    "# ds_goal             = 0.48\n",
    "# layout_zone         = {\"xmin\"   : 0, \"ymin\"   : 0, \"width\"  : 200, \"height\" : 200}  # Overwrite layout zone used for generation to allow room for movement\n",
    "\n",
    "\n",
    "plot_size           = 1.01 * layout_zone[\"width\"]\n",
    "\n",
    "\n",
    "a = plot_participants(layout_zone, participants, plot_size, plot_size, plot_connections= True)\n"
   ]
  },
  {
   "cell_type": "code",
   "execution_count": null,
   "metadata": {},
   "outputs": [],
   "source": [
    "participants            = determine_initial_conditions(participants, layout_zone, conciliation_quota, critical_amount)\n",
    "\n",
    "print('Participant Area: ' + str(calculate_all_participants_area(participants)))"
   ]
  },
  {
   "cell_type": "code",
   "execution_count": null,
   "metadata": {},
   "outputs": [],
   "source": [
    "id_list = [p['idx'] for p in (participants.values())]\n",
    "\n",
    "my_cool_pool = ThreadPool(2)\n",
    "\n",
    "with my_cool_pool as mcp:\n",
    "\n",
    "    for i in range(500): # maximum rounds of interaction\n",
    "\n",
    "        participants, runtime    = one_round_of_interaction(participants, layout_zone, 'interference', conciliation_quota, critical_amount, mcp)\n",
    "\n",
    "        plot_participants(layout_zone, participants, plot_size, plot_size, plot_connections=True)\n",
    "\n",
    "        print('One Round of Interaction took: ' + str(runtime) + ' seconds')\n",
    "\n",
    "        last_moves = {key : value['last-move'] for key,value in participants.items()}\n",
    "\n",
    "        moves = list(last_moves.values())\n",
    "\n",
    "        #print(participants['0']['interference'])\n",
    "        #print(participants['0']['relaxed-connections'])\n",
    "        #print(last_moves)\n",
    "\n",
    "        if moves.count('linger')  == len(participants):    \n",
    "\n",
    "            ds = calculate_dead_space(participants, layout_zone)  \n",
    "\n",
    "            #print('Current deadspace : ' + str(ds) + ' %') \n",
    "\n",
    "            if ds < ds_goal:\n",
    "                break\n",
    "\n",
    "            layout_zone         = scale_layout_zone(layout_zone, 0.99) \n",
    "\n",
    "            participants        = reset_after_tightening(participants)\n",
    "\n",
    "        # for i in range(len(participants)):\n",
    "        #     print(participants[str(i)]['last-move'])\n"
   ]
  },
  {
   "cell_type": "code",
   "execution_count": null,
   "metadata": {},
   "outputs": [],
   "source": [
    "plot_participants(layout_zone, participants, plot_size, plot_size, plot_connections=True)"
   ]
  },
  {
   "cell_type": "code",
   "execution_count": null,
   "metadata": {},
   "outputs": [],
   "source": [
    "participants    \t= determine_initial_conditions(participants, layout_zone, conciliation_quota, critical_amount)\n",
    "\n",
    "for i in range(len(participants)):\n",
    "    print(participants[str(i)]['overlap-with-idx'])"
   ]
  },
  {
   "cell_type": "code",
   "execution_count": null,
   "metadata": {},
   "outputs": [],
   "source": [
    "ds = calculate_dead_space(participants, layout_zone)\n",
    "\n",
    "print(\"Dead Space: \" + str(ds) + \" %\")"
   ]
  },
  {
   "cell_type": "code",
   "execution_count": null,
   "metadata": {},
   "outputs": [],
   "source": [
    "# Export to csv\n",
    "\n",
    "positions2csv(participants, layout_zone)"
   ]
  },
  {
   "cell_type": "code",
   "execution_count": null,
   "metadata": {},
   "outputs": [],
   "source": [
    "# from matplotlib import colors\n",
    "\n",
    "# import pandas as pd\n",
    "\n",
    "# df = pd.DataFrame.from_dict(participants, orient = 'index')\n",
    "\n",
    "# df['color_hex'] = [colors.to_hex(x) for x in list(df['color'].values)]\n",
    "\n",
    "# df"
   ]
  }
 ],
 "metadata": {
  "kernelspec": {
   "display_name": "abf",
   "language": "python",
   "name": "python3"
  },
  "language_info": {
   "codemirror_mode": {
    "name": "ipython",
    "version": 3
   },
   "file_extension": ".py",
   "mimetype": "text/x-python",
   "name": "python",
   "nbconvert_exporter": "python",
   "pygments_lexer": "ipython3",
   "version": "3.12.0"
  }
 },
 "nbformat": 4,
 "nbformat_minor": 2
}
