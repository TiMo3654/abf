{
 "cells": [
  {
   "cell_type": "code",
   "execution_count": 5,
   "metadata": {},
   "outputs": [
    {
     "data": {
      "image/png": "[encoded data removed]",
      "text/plain": [
       "<Figure size 700x350 with 1 Axes>"
      ]
     },
     "metadata": {},
     "output_type": "display_data"
    }
   ],
   "source": [
    "from util import *\n",
    "\n",
    "# a = generate_participant()\n",
    "\n",
    "arena = {}\n",
    "\n",
    "layout_zone = {\"xmin\"   : 0,\n",
    "               \"ymin\"   : 0,\n",
    "               \"width\"  : 120,\n",
    "               \"height\" : 120}\n",
    "\n",
    "for i in range(3):\n",
    "    arena[str(i)] = generate_participant()\n",
    "\n",
    "plot_participants(arena)\n",
    "\n",
    "a = calculate_overlap(arena['0'], arena['1'])\n",
    "\n",
    "# print(arena['0'])\n",
    "# print(arena['1'])\n",
    "\n",
    "# calculate_layout_area(layout_zone)\n",
    "\n",
    "# calculate_leeway_coefficient(layout_zone, arena)\n",
    "\n",
    "# print(a)\n",
    "\n",
    "# print(a[0])\n",
    "# calculate_protrusion(layout_zone, arena['0'])"
   ]
  },
  {
   "cell_type": "code",
   "execution_count": 6,
   "metadata": {},
   "outputs": [
    {
     "name": "stdout",
     "output_type": "stream",
     "text": [
      "A fully encloses B\n"
     ]
    },
    {
     "data": {
      "text/plain": [
       "{'xmin': 0, 'ymin': 42, 'width': 102, 'height': -9}"
      ]
     },
     "execution_count": 6,
     "metadata": {},
     "output_type": "execute_result"
    }
   ],
   "source": [
    "participant = arena.pop('0')\n",
    "\n",
    "free_edges = ['north', 'south', 'west', 'east']\n",
    "\n",
    "free_edges = ['north', 'south', 'east']\n",
    "\n",
    "calclulate_free_space(participant, free_edges, arena, layout_zone)"
   ]
  },
  {
   "cell_type": "code",
   "execution_count": 11,
   "metadata": {},
   "outputs": [
    {
     "data": {
      "text/plain": [
       "{'idx': '0',\n",
       " 'xmin': 9,\n",
       " 'ymin': 64,\n",
       " 'width': 47,\n",
       " 'height': 9,\n",
       " 'clashes': {},\n",
       " 'aversions': {},\n",
       " 'inference': 0,\n",
       " 'connections': {},\n",
       " 'turmoil': 0,\n",
       " 'wounds': []}"
      ]
     },
     "execution_count": 11,
     "metadata": {},
     "output_type": "execute_result"
    }
   ],
   "source": [
    "arena['1']"
   ]
  },
  {
   "cell_type": "code",
   "execution_count": 5,
   "metadata": {},
   "outputs": [
    {
     "name": "stdout",
     "output_type": "stream",
     "text": [
      "1\n"
     ]
    }
   ],
   "source": [
    "a = [1]\n",
    "\n",
    "if a:\n",
    "    print('1')\n",
    "else:\n",
    "    print('2')"
   ]
  },
  {
   "cell_type": "code",
   "execution_count": null,
   "metadata": {},
   "outputs": [],
   "source": [
    "superior_dict = {\n",
    "    'dict1': {'key1': 'value1', 'key2': 1, 'key3': 2},\n",
    "    'dict2': {'key1': 'value4', 'key2': 5, 'key3': 2},\n",
    "    'dict3': {'key1': 'value7', 'key2': 1, 'key3': 2},\n",
    "}\n",
    "\n",
    "key_to_retrieve = 'key2'\n",
    "\n",
    "width = [sub_dict.get(key_to_retrieve) for sub_dict in superior_dict.values()]\n",
    "\n",
    "key_to_retrieve = 'key3'\n",
    "\n",
    "height = [sub_dict.get(key_to_retrieve) for sub_dict in superior_dict.values()]\n",
    "\n",
    "area = sum([a * b for a, b in zip(width, height)])\n",
    "\n",
    "print(area)"
   ]
  },
  {
   "cell_type": "code",
   "execution_count": 2,
   "metadata": {},
   "outputs": [
    {
     "data": {
      "text/plain": [
       "32.89756829919196"
      ]
     },
     "execution_count": 2,
     "metadata": {},
     "output_type": "execute_result"
    }
   ],
   "source": [
    "calculate_euclidean_distance(arena['0'], arena['1'])"
   ]
  },
  {
   "cell_type": "code",
   "execution_count": 3,
   "metadata": {},
   "outputs": [
    {
     "name": "stdout",
     "output_type": "stream",
     "text": [
      "At least one value is True.\n"
     ]
    }
   ],
   "source": [
    "boolean_list = [False, True, False, False]\n",
    "\n",
    "if any(boolean_list):\n",
    "    print(\"At least one value is True.\")\n",
    "else:\n",
    "    print(\"All values are False.\")"
   ]
  }
 ],
 "metadata": {
  "kernelspec": {
   "display_name": "abf",
   "language": "python",
   "name": "python3"
  },
  "language_info": {
   "codemirror_mode": {
    "name": "ipython",
    "version": 3
   },
   "file_extension": ".py",
   "mimetype": "text/x-python",
   "name": "python",
   "nbconvert_exporter": "python",
   "pygments_lexer": "ipython3",
   "version": "3.12.0"
  }
 },
 "nbformat": 4,
 "nbformat_minor": 2
}
