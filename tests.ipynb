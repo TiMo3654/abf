{
 "cells": [
  {
   "cell_type": "code",
   "execution_count": 1,
   "metadata": {},
   "outputs": [],
   "source": [
    "from util import *\n",
    "from swarm import *\n",
    "import random"
   ]
  },
  {
   "cell_type": "code",
   "execution_count": 2,
   "metadata": {},
   "outputs": [],
   "source": [
    "conciliation_quota  = 1\n",
    "\n",
    "critical_amount     = 100"
   ]
  },
  {
   "cell_type": "code",
   "execution_count": 3,
   "metadata": {},
   "outputs": [
    {
     "data": {
      "image/png": "[encoded data removed]",
      "text/plain": [
       "<Figure size 700x350 with 1 Axes>"
      ]
     },
     "metadata": {},
     "output_type": "display_data"
    },
    {
     "data": {
      "text/plain": [
       "0"
      ]
     },
     "execution_count": 3,
     "metadata": {},
     "output_type": "execute_result"
    }
   ],
   "source": [
    "layout_zone = {\"xmin\"   : 0,\n",
    "               \"ymin\"   : 0,\n",
    "               \"width\"  : 120,\n",
    "               \"height\" : 120}\n",
    "\n",
    "participants       = generate_unconnected_participants(5, layout_zone, 12)\n",
    "\n",
    "plot_participants(layout_zone, participants, 150, 150)\n"
   ]
  },
  {
   "cell_type": "code",
   "execution_count": 8,
   "metadata": {},
   "outputs": [
    {
     "data": {
      "text/plain": [
       "({'xmin': 60, 'ymin': 47, 'width': 16, 'height': 30},\n",
       " [False, False, False, True, False, True])"
      ]
     },
     "execution_count": 8,
     "metadata": {},
     "output_type": "execute_result"
    }
   ],
   "source": [
    "initial_participants            = determine_initial_conditions(participants, layout_zone, conciliation_quota, critical_amount)\n",
    "\n",
    "calculate_overlap(initial_participants['4'], initial_participants['0'])"
   ]
  },
  {
   "cell_type": "code",
   "execution_count": 5,
   "metadata": {},
   "outputs": [
    {
     "name": "stdout",
     "output_type": "stream",
     "text": [
      "A 0\n",
      "3\n",
      "{'xmin': 71, 'ymin': 34, 'width': 41, 'height': 15}\n",
      "4\n",
      "{'xmin': 60, 'ymin': 47, 'width': 16, 'height': 30}\n",
      "A 1\n",
      "A 4\n",
      "0\n",
      "{}\n"
     ]
    },
    {
     "ename": "KeyError",
     "evalue": "'width'",
     "output_type": "error",
     "traceback": [
      "\u001b[0;31m---------------------------------------------------------------------------\u001b[0m",
      "\u001b[0;31mKeyError\u001b[0m                                  Traceback (most recent call last)",
      "Cell \u001b[0;32mIn[5], line 1\u001b[0m\n\u001b[0;32m----> 1\u001b[0m participants_after_one_round    \u001b[38;5;241m=\u001b[39m \u001b[43mone_round_of_interaction\u001b[49m\u001b[43m(\u001b[49m\u001b[43minitial_participants\u001b[49m\u001b[43m,\u001b[49m\u001b[43m \u001b[49m\u001b[43mlayout_zone\u001b[49m\u001b[43m,\u001b[49m\u001b[43m \u001b[49m\u001b[43mconciliation_quota\u001b[49m\u001b[43m,\u001b[49m\u001b[43m \u001b[49m\u001b[43mcritical_amount\u001b[49m\u001b[43m)\u001b[49m\n",
      "File \u001b[0;32m~/projects/abf/swarm.py:39\u001b[0m, in \u001b[0;36mone_round_of_interaction\u001b[0;34m(participants, layout_zone, conciliation_quota, critical_amount)\u001b[0m\n\u001b[1;32m     35\u001b[0m \u001b[38;5;28;01mfor\u001b[39;00m i \u001b[38;5;129;01min\u001b[39;00m \u001b[38;5;28mrange\u001b[39m(\u001b[38;5;28mlen\u001b[39m(participants)):\n\u001b[1;32m     37\u001b[0m     A                       \u001b[38;5;241m=\u001b[39m new_participants\u001b[38;5;241m.\u001b[39mpop(\u001b[38;5;28mstr\u001b[39m(i))  \u001b[38;5;66;03m# TODO: Handle idx list instead of basic ascending numbers\u001b[39;00m\n\u001b[0;32m---> 39\u001b[0m     possible_new_positions  \u001b[38;5;241m=\u001b[39m \u001b[43maction_exploration\u001b[49m\u001b[43m(\u001b[49m\u001b[43mA\u001b[49m\u001b[43m,\u001b[49m\u001b[43m \u001b[49m\u001b[43mnew_participants\u001b[49m\u001b[43m,\u001b[49m\u001b[43m \u001b[49m\u001b[43mlayout_zone\u001b[49m\u001b[43m,\u001b[49m\u001b[43m \u001b[49m\u001b[43mleeway_coefficient\u001b[49m\u001b[43m,\u001b[49m\u001b[43m \u001b[49m\u001b[43mconciliation_quota\u001b[49m\u001b[43m,\u001b[49m\u001b[43m \u001b[49m\u001b[43mcritical_amount\u001b[49m\u001b[43m)\u001b[49m\n\u001b[1;32m     41\u001b[0m     new_position            \u001b[38;5;241m=\u001b[39m determine_best_move(possible_new_positions)\n\u001b[1;32m     43\u001b[0m     \u001b[38;5;28;01mfor\u001b[39;00m moved_participant \u001b[38;5;129;01min\u001b[39;00m new_position:\n",
      "File \u001b[0;32m~/projects/abf/exploration.py:142\u001b[0m, in \u001b[0;36maction_exploration\u001b[0;34m(A, participants, layout_zone, leeway_coeffcient, conciliation_quota, critical_amount)\u001b[0m\n\u001b[1;32m    138\u001b[0m \u001b[38;5;66;03m# explore hustling\u001b[39;00m\n\u001b[1;32m    140\u001b[0m action                              \u001b[38;5;241m=\u001b[39m \u001b[38;5;28;01mlambda\u001b[39;00m P: hustle(P, participants)\n\u001b[0;32m--> 142\u001b[0m adjuvant_position, valid_position, _\u001b[38;5;241m=\u001b[39m \u001b[43mexplore_action\u001b[49m\u001b[43m(\u001b[49m\u001b[43mA\u001b[49m\u001b[43m,\u001b[49m\u001b[43m \u001b[49m\u001b[43mparticipants\u001b[49m\u001b[43m,\u001b[49m\u001b[43m \u001b[49m\u001b[43mlayout_zone\u001b[49m\u001b[43m,\u001b[49m\u001b[43m \u001b[49m\u001b[43mleeway_coeffcient\u001b[49m\u001b[43m,\u001b[49m\u001b[43m \u001b[49m\u001b[43mconciliation_quota\u001b[49m\u001b[43m,\u001b[49m\u001b[43m \u001b[49m\u001b[43mcritical_amount\u001b[49m\u001b[43m,\u001b[49m\u001b[43m \u001b[49m\u001b[43maction\u001b[49m\u001b[43m)\u001b[49m\n\u001b[1;32m    144\u001b[0m \u001b[38;5;28;01mif\u001b[39;00m adjuvant_position \u001b[38;5;129;01mor\u001b[39;00m valid_position:\n\u001b[1;32m    145\u001b[0m     possible_next_positions\u001b[38;5;241m.\u001b[39mappend(adjuvant_position \u001b[38;5;241m+\u001b[39m valid_position)  \u001b[38;5;66;03m# new positions for all participants in valid positions\u001b[39;00m\n",
      "File \u001b[0;32m~/projects/abf/exploration.py:35\u001b[0m, in \u001b[0;36mexplore_action\u001b[0;34m(A, participants, layout_zone, leeway_coeffcient, conciliation_quota, critical_amount, action)\u001b[0m\n\u001b[1;32m     31\u001b[0m invalid_position                    \u001b[38;5;241m=\u001b[39m []\n\u001b[1;32m     33\u001b[0m actual_participants                 \u001b[38;5;241m=\u001b[39m copy\u001b[38;5;241m.\u001b[39mdeepcopy(participants)\n\u001b[0;32m---> 35\u001b[0m moved_participants                  \u001b[38;5;241m=\u001b[39m \u001b[43maction\u001b[49m\u001b[43m(\u001b[49m\u001b[43mA\u001b[49m\u001b[43m)\u001b[49m     \u001b[38;5;66;03m# list with either one entry (only a moved A) or two entries (moved A and B) or more in case of hustle/ the actions make deep copies of the moved participants\u001b[39;00m\n\u001b[1;32m     37\u001b[0m \u001b[38;5;28;01mfor\u001b[39;00m participant \u001b[38;5;129;01min\u001b[39;00m moved_participants:\n\u001b[1;32m     39\u001b[0m     participant_idx                 \u001b[38;5;241m=\u001b[39m participant[\u001b[38;5;124m'\u001b[39m\u001b[38;5;124midx\u001b[39m\u001b[38;5;124m'\u001b[39m]\n",
      "File \u001b[0;32m~/projects/abf/exploration.py:140\u001b[0m, in \u001b[0;36maction_exploration.<locals>.<lambda>\u001b[0;34m(P)\u001b[0m\n\u001b[1;32m    136\u001b[0m         possible_next_positions\u001b[38;5;241m.\u001b[39mappend(valid_position)\n\u001b[1;32m    138\u001b[0m \u001b[38;5;66;03m# explore hustling\u001b[39;00m\n\u001b[0;32m--> 140\u001b[0m action                              \u001b[38;5;241m=\u001b[39m \u001b[38;5;28;01mlambda\u001b[39;00m P: \u001b[43mhustle\u001b[49m\u001b[43m(\u001b[49m\u001b[43mP\u001b[49m\u001b[43m,\u001b[49m\u001b[43m \u001b[49m\u001b[43mparticipants\u001b[49m\u001b[43m)\u001b[49m\n\u001b[1;32m    142\u001b[0m adjuvant_position, valid_position, _\u001b[38;5;241m=\u001b[39m explore_action(A, participants, layout_zone, leeway_coeffcient, conciliation_quota, critical_amount, action)\n\u001b[1;32m    144\u001b[0m \u001b[38;5;28;01mif\u001b[39;00m adjuvant_position \u001b[38;5;129;01mor\u001b[39;00m valid_position:\n",
      "File \u001b[0;32m~/projects/abf/moves.py:247\u001b[0m, in \u001b[0;36mhustle\u001b[0;34m(A, participants)\u001b[0m\n\u001b[1;32m    243\u001b[0m overlap, _          \u001b[38;5;241m=\u001b[39m calculate_overlap(A, new_B)\n\u001b[1;32m    245\u001b[0m \u001b[38;5;28mprint\u001b[39m(overlap)\n\u001b[0;32m--> 247\u001b[0m \u001b[38;5;28;01mif\u001b[39;00m \u001b[43moverlap\u001b[49m\u001b[43m[\u001b[49m\u001b[38;5;124;43m'\u001b[39;49m\u001b[38;5;124;43mwidth\u001b[39;49m\u001b[38;5;124;43m'\u001b[39;49m\u001b[43m]\u001b[49m \u001b[38;5;241m<\u001b[39m\u001b[38;5;241m=\u001b[39m overlap[\u001b[38;5;124m'\u001b[39m\u001b[38;5;124mheight\u001b[39m\u001b[38;5;124m'\u001b[39m]:\n\u001b[1;32m    249\u001b[0m     delta_x         \u001b[38;5;241m=\u001b[39m overlap[\u001b[38;5;124m'\u001b[39m\u001b[38;5;124mwidth\u001b[39m\u001b[38;5;124m'\u001b[39m] \u001b[38;5;28;01mif\u001b[39;00m B[\u001b[38;5;124m'\u001b[39m\u001b[38;5;124mxmin\u001b[39m\u001b[38;5;124m'\u001b[39m] \u001b[38;5;241m>\u001b[39m\u001b[38;5;241m=\u001b[39m A[\u001b[38;5;124m'\u001b[39m\u001b[38;5;124mxmin\u001b[39m\u001b[38;5;124m'\u001b[39m] \u001b[38;5;28;01melse\u001b[39;00m overlap[\u001b[38;5;124m'\u001b[39m\u001b[38;5;124mwidth\u001b[39m\u001b[38;5;124m'\u001b[39m] \u001b[38;5;241m*\u001b[39m \u001b[38;5;241m-\u001b[39m\u001b[38;5;241m1\u001b[39m\n\u001b[1;32m    250\u001b[0m     delta_y         \u001b[38;5;241m=\u001b[39m \u001b[38;5;241m0\u001b[39m\n",
      "\u001b[0;31mKeyError\u001b[0m: 'width'"
     ]
    }
   ],
   "source": [
    "participants_after_one_round    = one_round_of_interaction(initial_participants, layout_zone, conciliation_quota, critical_amount)"
   ]
  }
 ],
 "metadata": {
  "kernelspec": {
   "display_name": "abf",
   "language": "python",
   "name": "python3"
  },
  "language_info": {
   "codemirror_mode": {
    "name": "ipython",
    "version": 3
   },
   "file_extension": ".py",
   "mimetype": "text/x-python",
   "name": "python",
   "nbconvert_exporter": "python",
   "pygments_lexer": "ipython3",
   "version": "3.12.0"
  }
 },
 "nbformat": 4,
 "nbformat_minor": 2
}
