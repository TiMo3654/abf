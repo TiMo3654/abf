{
 "cells": [
  {
   "cell_type": "code",
   "execution_count": 1,
   "metadata": {},
   "outputs": [
    {
     "data": {
      "image/png": "[encoded data removed]",
      "text/plain": [
       "<Figure size 700x350 with 1 Axes>"
      ]
     },
     "metadata": {},
     "output_type": "display_data"
    },
    {
     "name": "stdout",
     "output_type": "stream",
     "text": [
      "party!\n",
      "{'idx': 0, 'xmin': 83, 'ymin': 36, 'width': 11, 'height': 33, 'clashes': {}, 'aversions': {}, 'inference': 0, 'connections': {}, 'turmoil': 0, 'wounds': []}\n",
      "{'idx': 0, 'xmin': 59, 'ymin': 42, 'width': 6, 'height': 29, 'clashes': {}, 'aversions': {}, 'inference': 0, 'connections': {}, 'turmoil': 0, 'wounds': []}\n"
     ]
    },
    {
     "data": {
      "text/plain": [
       "5.178382224025237"
      ]
     },
     "execution_count": 1,
     "metadata": {},
     "output_type": "execute_result"
    }
   ],
   "source": [
    "from util import *\n",
    "\n",
    "# a = generate_participant()\n",
    "\n",
    "arena = {}\n",
    "\n",
    "layout_zone = {\"xmin\"   : 0,\n",
    "               \"ymin\"   : 0,\n",
    "               \"width\"  : 120,\n",
    "               \"height\" : 120}\n",
    "\n",
    "for i in range(2):\n",
    "    arena[str(i)] = generate_participant()\n",
    "\n",
    "plot_participants(arena)\n",
    "\n",
    "a = calculate_overlap(arena['0'], arena['1'])\n",
    "\n",
    "print(arena['0'])\n",
    "print(arena['1'])\n",
    "\n",
    "calculate_layout_area(layout_zone)\n",
    "\n",
    "calculate_leeway_coefficient(layout_zone, arena)"
   ]
  },
  {
   "cell_type": "code",
   "execution_count": null,
   "metadata": {},
   "outputs": [],
   "source": [
    "superior_dict = {\n",
    "    'dict1': {'key1': 'value1', 'key2': 1, 'key3': 2},\n",
    "    'dict2': {'key1': 'value4', 'key2': 5, 'key3': 2},\n",
    "    'dict3': {'key1': 'value7', 'key2': 1, 'key3': 2},\n",
    "}\n",
    "\n",
    "key_to_retrieve = 'key2'\n",
    "\n",
    "width = [sub_dict.get(key_to_retrieve) for sub_dict in superior_dict.values()]\n",
    "\n",
    "key_to_retrieve = 'key3'\n",
    "\n",
    "height = [sub_dict.get(key_to_retrieve) for sub_dict in superior_dict.values()]\n",
    "\n",
    "area = sum([a * b for a, b in zip(width, height)])\n",
    "\n",
    "print(area)"
   ]
  },
  {
   "cell_type": "code",
   "execution_count": 3,
   "metadata": {},
   "outputs": [
    {
     "data": {
      "text/plain": [
       "83"
      ]
     },
     "execution_count": 3,
     "metadata": {},
     "output_type": "execute_result"
    }
   ],
   "source": [
    "arena['0']['xmin']"
   ]
  }
 ],
 "metadata": {
  "kernelspec": {
   "display_name": "abf",
   "language": "python",
   "name": "python3"
  },
  "language_info": {
   "codemirror_mode": {
    "name": "ipython",
    "version": 3
   },
   "file_extension": ".py",
   "mimetype": "text/x-python",
   "name": "python",
   "nbconvert_exporter": "python",
   "pygments_lexer": "ipython3",
   "version": "3.12.0"
  }
 },
 "nbformat": 4,
 "nbformat_minor": 2
}
