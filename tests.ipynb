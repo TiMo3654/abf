{
 "cells": [
  {
   "cell_type": "code",
   "execution_count": 3,
   "metadata": {},
   "outputs": [
    {
     "data": {
      "image/png": "[encoded data removed]",
      "text/plain": [
       "<Figure size 700x350 with 1 Axes>"
      ]
     },
     "metadata": {},
     "output_type": "display_data"
    },
    {
     "data": {
      "text/plain": [
       "0"
      ]
     },
     "execution_count": 3,
     "metadata": {},
     "output_type": "execute_result"
    }
   ],
   "source": [
    "from util import *\n",
    "import random\n",
    "# a = generate_participant()\n",
    "\n",
    "\n",
    "layout_zone = {\"xmin\"   : 0,\n",
    "               \"ymin\"   : 0,\n",
    "               \"width\"  : 120,\n",
    "               \"height\" : 120}\n",
    "\n",
    "arena       = generate_unconnected_participants(10, layout_zone, 5)\n",
    "\n",
    "plot_participants(layout_zone, arena, 150, 150)\n"
   ]
  },
  {
   "cell_type": "code",
   "execution_count": 5,
   "metadata": {},
   "outputs": [
    {
     "data": {
      "text/plain": [
       "['aliceblue',\n",
       " 'antiquewhite',\n",
       " 'aqua',\n",
       " 'aquamarine',\n",
       " 'azure',\n",
       " 'beige',\n",
       " 'bisque',\n",
       " 'black',\n",
       " 'blanchedalmond',\n",
       " 'blue',\n",
       " 'blueviolet',\n",
       " 'brown',\n",
       " 'burlywood',\n",
       " 'cadetblue',\n",
       " 'chartreuse',\n",
       " 'chocolate',\n",
       " 'coral',\n",
       " 'cornflowerblue',\n",
       " 'cornsilk',\n",
       " 'crimson',\n",
       " 'cyan',\n",
       " 'darkblue',\n",
       " 'darkcyan',\n",
       " 'darkgoldenrod',\n",
       " 'darkgray',\n",
       " 'darkgreen',\n",
       " 'darkgrey',\n",
       " 'darkkhaki',\n",
       " 'darkmagenta',\n",
       " 'darkolivegreen',\n",
       " 'darkorange',\n",
       " 'darkorchid',\n",
       " 'darkred',\n",
       " 'darksalmon',\n",
       " 'darkseagreen',\n",
       " 'darkslateblue',\n",
       " 'darkslategray',\n",
       " 'darkslategrey',\n",
       " 'darkturquoise',\n",
       " 'darkviolet',\n",
       " 'deeppink',\n",
       " 'deepskyblue',\n",
       " 'dimgray',\n",
       " 'dimgrey',\n",
       " 'dodgerblue',\n",
       " 'firebrick',\n",
       " 'floralwhite',\n",
       " 'forestgreen',\n",
       " 'fuchsia',\n",
       " 'gainsboro',\n",
       " 'ghostwhite',\n",
       " 'gold',\n",
       " 'goldenrod',\n",
       " 'gray',\n",
       " 'green',\n",
       " 'greenyellow',\n",
       " 'grey',\n",
       " 'honeydew',\n",
       " 'hotpink',\n",
       " 'indianred',\n",
       " 'indigo',\n",
       " 'ivory',\n",
       " 'khaki',\n",
       " 'lavender',\n",
       " 'lavenderblush',\n",
       " 'lawngreen',\n",
       " 'lemonchiffon',\n",
       " 'lightblue',\n",
       " 'lightcoral',\n",
       " 'lightcyan',\n",
       " 'lightgoldenrodyellow',\n",
       " 'lightgray',\n",
       " 'lightgreen',\n",
       " 'lightgrey',\n",
       " 'lightpink',\n",
       " 'lightsalmon',\n",
       " 'lightseagreen',\n",
       " 'lightskyblue',\n",
       " 'lightslategray',\n",
       " 'lightslategrey',\n",
       " 'lightsteelblue',\n",
       " 'lightyellow',\n",
       " 'lime',\n",
       " 'limegreen',\n",
       " 'linen',\n",
       " 'magenta',\n",
       " 'maroon',\n",
       " 'mediumaquamarine',\n",
       " 'mediumblue',\n",
       " 'mediumorchid',\n",
       " 'mediumpurple',\n",
       " 'mediumseagreen',\n",
       " 'mediumslateblue',\n",
       " 'mediumspringgreen',\n",
       " 'mediumturquoise',\n",
       " 'mediumvioletred',\n",
       " 'midnightblue',\n",
       " 'mintcream',\n",
       " 'mistyrose',\n",
       " 'moccasin',\n",
       " 'navajowhite',\n",
       " 'navy',\n",
       " 'oldlace',\n",
       " 'olive',\n",
       " 'olivedrab',\n",
       " 'orange',\n",
       " 'orangered',\n",
       " 'orchid',\n",
       " 'palegoldenrod',\n",
       " 'palegreen',\n",
       " 'paleturquoise',\n",
       " 'palevioletred',\n",
       " 'papayawhip',\n",
       " 'peachpuff',\n",
       " 'peru',\n",
       " 'pink',\n",
       " 'plum',\n",
       " 'powderblue',\n",
       " 'purple',\n",
       " 'rebeccapurple',\n",
       " 'red',\n",
       " 'rosybrown',\n",
       " 'royalblue',\n",
       " 'saddlebrown',\n",
       " 'salmon',\n",
       " 'sandybrown',\n",
       " 'seagreen',\n",
       " 'seashell',\n",
       " 'sienna',\n",
       " 'silver',\n",
       " 'skyblue',\n",
       " 'slateblue',\n",
       " 'slategray',\n",
       " 'slategrey',\n",
       " 'snow',\n",
       " 'springgreen',\n",
       " 'steelblue',\n",
       " 'tan',\n",
       " 'teal',\n",
       " 'thistle',\n",
       " 'tomato',\n",
       " 'turquoise',\n",
       " 'violet',\n",
       " 'wheat',\n",
       " 'white',\n",
       " 'whitesmoke',\n",
       " 'yellow',\n",
       " 'yellowgreen']"
      ]
     },
     "execution_count": 5,
     "metadata": {},
     "output_type": "execute_result"
    }
   ],
   "source": [
    "import matplotlib.colors as mcolors\n",
    "\n",
    "colors = list(mcolors.CSS4_COLORS.keys())\n",
    "\n",
    "colors"
   ]
  },
  {
   "cell_type": "code",
   "execution_count": 35,
   "metadata": {},
   "outputs": [
    {
     "data": {
      "text/plain": [
       "{}"
      ]
     },
     "execution_count": 35,
     "metadata": {},
     "output_type": "execute_result"
    }
   ],
   "source": [
    "ov, _ = calculate_overlap(arena['1'], arena['2'])\n",
    "\n",
    "ov"
   ]
  },
  {
   "cell_type": "code",
   "execution_count": 6,
   "metadata": {},
   "outputs": [
    {
     "data": {
      "text/plain": [
       "['north', 'east']"
      ]
     },
     "execution_count": 6,
     "metadata": {},
     "output_type": "execute_result"
    }
   ],
   "source": [
    "edges = [True, False, True, False]\n",
    "\n",
    "protruded_zone_edges             = [edge \n",
    "                                    for i,edge in enumerate(['north', 'west', 'east', 'south']) \n",
    "                                    if edges[i]]\n",
    "\n",
    "protruded_zone_edges"
   ]
  },
  {
   "cell_type": "code",
   "execution_count": 12,
   "metadata": {},
   "outputs": [
    {
     "data": {
      "text/plain": [
       "[1]"
      ]
     },
     "execution_count": 12,
     "metadata": {},
     "output_type": "execute_result"
    }
   ],
   "source": [
    "[1] + []"
   ]
  },
  {
   "cell_type": "code",
   "execution_count": 14,
   "metadata": {},
   "outputs": [
    {
     "data": {
      "text/plain": [
       "('prone', (-1, 7))"
      ]
     },
     "execution_count": 14,
     "metadata": {},
     "output_type": "execute_result"
    }
   ],
   "source": [
    "calculate_protrusion(layout_zone, arena['0'])"
   ]
  },
  {
   "cell_type": "code",
   "execution_count": 15,
   "metadata": {},
   "outputs": [
    {
     "data": {
      "text/plain": [
       "{'idx': '0',\n",
       " 'xmin': 80,\n",
       " 'ymin': -7,\n",
       " 'width': 41,\n",
       " 'height': 24,\n",
       " 'clashes': {},\n",
       " 'aversions': {},\n",
       " 'inference': 0,\n",
       " 'connections': {},\n",
       " 'turmoil': 0,\n",
       " 'wounds': [],\n",
       " 'freespace': {},\n",
       " 'secondary-freespace-north-east': {},\n",
       " 'secondary-freespace-south-east': {},\n",
       " 'secondary-freespace-south-west': {},\n",
       " 'secondary-freespace-north-west': {}}"
      ]
     },
     "execution_count": 15,
     "metadata": {},
     "output_type": "execute_result"
    }
   ],
   "source": [
    "arena['0']"
   ]
  },
  {
   "cell_type": "code",
   "execution_count": 26,
   "metadata": {},
   "outputs": [],
   "source": [
    "participant = arena.pop('2')\n",
    "\n",
    "p2 = arena.pop('1')"
   ]
  },
  {
   "cell_type": "code",
   "execution_count": 28,
   "metadata": {},
   "outputs": [],
   "source": [
    "p1n = hustle(participant, p2)"
   ]
  },
  {
   "cell_type": "code",
   "execution_count": 29,
   "metadata": {},
   "outputs": [
    {
     "data": {
      "image/png": "[encoded data removed]",
      "text/plain": [
       "<Figure size 700x350 with 1 Axes>"
      ]
     },
     "metadata": {},
     "output_type": "display_data"
    },
    {
     "data": {
      "text/plain": [
       "0"
      ]
     },
     "execution_count": 29,
     "metadata": {},
     "output_type": "execute_result"
    }
   ],
   "source": [
    "p2['xmin'] = p1n[0]\n",
    "p2['ymin'] = p1n[1]\n",
    "\n",
    "arena['2'] = participant\n",
    "\n",
    "arena['1'] = p2\n",
    "\n",
    "plot_participants(arena)"
   ]
  },
  {
   "cell_type": "code",
   "execution_count": 33,
   "metadata": {},
   "outputs": [
    {
     "data": {
      "text/plain": [
       "({}, [False, False, False, False, False, False])"
      ]
     },
     "execution_count": 33,
     "metadata": {},
     "output_type": "execute_result"
    }
   ],
   "source": [
    "calculate_overlap(arena['0'], arena['1'])"
   ]
  },
  {
   "cell_type": "code",
   "execution_count": null,
   "metadata": {},
   "outputs": [],
   "source": [
    "free_edges = ['north','west', 'east', 'south']\n",
    "\n",
    "\n",
    "calclulate_free_space(participant, free_edges, arena, layout_zone)"
   ]
  },
  {
   "cell_type": "code",
   "execution_count": null,
   "metadata": {},
   "outputs": [],
   "source": [
    "arena['2']"
   ]
  },
  {
   "cell_type": "code",
   "execution_count": null,
   "metadata": {},
   "outputs": [],
   "source": [
    "a = [1]\n",
    "\n",
    "if a:\n",
    "    print('1')\n",
    "else:\n",
    "    print('2')"
   ]
  },
  {
   "cell_type": "code",
   "execution_count": null,
   "metadata": {},
   "outputs": [],
   "source": [
    "superior_dict = {\n",
    "    'dict1': {'key1': 'value1', 'key2': 1, 'key3': 2},\n",
    "    'dict2': {'key1': 'value4', 'key2': 5, 'key3': 2},\n",
    "    'dict3': {'key1': 'value7', 'key2': 1, 'key3': 2},\n",
    "}\n",
    "\n",
    "key_to_retrieve = 'key2'\n",
    "\n",
    "width = [sub_dict.get(key_to_retrieve) for sub_dict in superior_dict.values()]\n",
    "\n",
    "key_to_retrieve = 'key3'\n",
    "\n",
    "height = [sub_dict.get(key_to_retrieve) for sub_dict in superior_dict.values()]\n",
    "\n",
    "area = sum([a * b for a, b in zip(width, height)])\n",
    "\n",
    "print(area)"
   ]
  },
  {
   "cell_type": "code",
   "execution_count": null,
   "metadata": {},
   "outputs": [],
   "source": [
    "calculate_euclidean_distance(arena['0'], arena['1'])"
   ]
  },
  {
   "cell_type": "code",
   "execution_count": null,
   "metadata": {},
   "outputs": [],
   "source": [
    "boolean_list = [False, True, False, False]\n",
    "\n",
    "if any(boolean_list):\n",
    "    print(\"At least one value is True.\")\n",
    "else:\n",
    "    print(\"All values are False.\")"
   ]
  }
 ],
 "metadata": {
  "kernelspec": {
   "display_name": "abf",
   "language": "python",
   "name": "python3"
  },
  "language_info": {
   "codemirror_mode": {
    "name": "ipython",
    "version": 3
   },
   "file_extension": ".py",
   "mimetype": "text/x-python",
   "name": "python",
   "nbconvert_exporter": "python",
   "pygments_lexer": "ipython3",
   "version": "3.12.0"
  }
 },
 "nbformat": 4,
 "nbformat_minor": 2
}
