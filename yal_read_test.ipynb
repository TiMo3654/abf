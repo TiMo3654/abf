{
 "cells": [
  {
   "cell_type": "code",
   "execution_count": null,
   "metadata": {},
   "outputs": [],
   "source": [
    "from util import *\n",
    "from generation import *\n",
    "from swarm import *\n",
    "from metrics import *\n",
    "import random\n",
    "import time\n",
    "import copy\n",
    "from IPython import display\n",
    "import pylab as pl\n",
    "from multiprocess.pool import ThreadPool\n",
    "from swarm_types import *\n"
   ]
  },
  {
   "cell_type": "code",
   "execution_count": null,
   "metadata": {},
   "outputs": [],
   "source": [
    "import yal\n",
    "\n",
    "modules = yal.read('./yal_files/ami33.yal')\n",
    "\n",
    "# modules = yal.read('./yal_files/ami49.yal')\n",
    "\n",
    "participants = yal.util.as_participants(modules)\n",
    "\n",
    "# # For ami49 : Filter out Connection with zero emphasis\n",
    "\n",
    "# for participant in participants[:-1]:\n",
    "\n",
    "#     participant['connections'] = {x:y for x,y in participant['connections'].items() if y}\n",
    "\n",
    "# #participants\n"
   ]
  },
  {
   "cell_type": "code",
   "execution_count": null,
   "metadata": {},
   "outputs": [],
   "source": [
    "layout_zone = Rectangle(0,0,1500,1500) \n",
    "\n",
    "conciliation_quota  = 0.5\n",
    "\n",
    "critical_amount     = 100\n",
    "\n",
    "p   = random_place_mcnc(participants, layout_zone, 666)\n",
    "\n",
    "a   = plot_participants(layout_zone, p, 1500, 1500)\n"
   ]
  },
  {
   "cell_type": "code",
   "execution_count": null,
   "metadata": {},
   "outputs": [],
   "source": [
    "participants            = determine_initial_conditions(p, layout_zone, conciliation_quota, critical_amount)\n"
   ]
  },
  {
   "cell_type": "code",
   "execution_count": null,
   "metadata": {},
   "outputs": [],
   "source": [
    "tic = time.time()\n",
    "\n",
    "\n",
    "tic = time.time()\n",
    "\n",
    "for i in range(500): # maximum rounds of interaction\n",
    "\n",
    "    participants, runtime    = one_round_of_interaction(participants, layout_zone, 'interference', conciliation_quota, critical_amount)\n",
    "\n",
    "    plot_participants(layout_zone, participants, 1500, 1500, plot_connections=False)\n",
    "\n",
    "    print('One Round of Interaction took: ' + str(runtime) + ' seconds')\n",
    "\n",
    "    last_moves = [p.last_move for p in participants]\n",
    "\n",
    "    #print(participants['0']['interference'])\n",
    "    #print(participants['0']['relaxed-connections'])\n",
    "    #print(last_moves)\n",
    "\n",
    "    if last_moves.count('linger')  == len(participants):    \n",
    "\n",
    "        ds = calculate_dead_space(participants, layout_zone)  \n",
    "\n",
    "        #print('Current deadspace : ' + str(ds) + ' %') \n",
    "\n",
    "        if ds < 25:\n",
    "            break\n",
    "\n",
    "        layout_zone         = scale_layout_zone(layout_zone, 0.9) \n",
    "\n",
    "        participants        = reset_after_tightening(participants)\n",
    "\n",
    "    # for i in range(len(participants)):\n",
    "    #     print(participants[str(i)]['last-move'])\n",
    "\n",
    "toc = time.time()\n"
   ]
  },
  {
   "cell_type": "code",
   "execution_count": null,
   "metadata": {},
   "outputs": [],
   "source": [
    "print('This took ' + str(toc-tic)  + ' seconds!')"
   ]
  },
  {
   "cell_type": "code",
   "execution_count": null,
   "metadata": {},
   "outputs": [],
   "source": [
    "# from position_export import *\n",
    "\n",
    "# positions2csv(participants, layout_zone, 'ami33_floorplan.csv')"
   ]
  }
 ],
 "metadata": {
  "kernelspec": {
   "display_name": "abf",
   "language": "python",
   "name": "python3"
  },
  "language_info": {
   "codemirror_mode": {
    "name": "ipython",
    "version": 3
   },
   "file_extension": ".py",
   "mimetype": "text/x-python",
   "name": "python",
   "nbconvert_exporter": "python",
   "pygments_lexer": "ipython3",
   "version": "3.12.0"
  }
 },
 "nbformat": 4,
 "nbformat_minor": 2
}
