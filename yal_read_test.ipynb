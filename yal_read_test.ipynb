{
 "cells": [
  {
   "cell_type": "code",
   "execution_count": 1,
   "metadata": {},
   "outputs": [],
   "source": [
    "from util import *\n",
    "from swarm import *\n",
    "from metrics import *\n",
    "import random\n",
    "import time\n",
    "from IPython import display\n",
    "import pylab as pl"
   ]
  },
  {
   "cell_type": "code",
   "execution_count": 2,
   "metadata": {},
   "outputs": [],
   "source": [
    "import yal\n",
    "\n",
    "modules = yal.read('./yal_files/ami33.yal')\n",
    "\n",
    "participants = yal.util.as_participants(modules)\n",
    "\n",
    "#participants"
   ]
  },
  {
   "cell_type": "code",
   "execution_count": null,
   "metadata": {},
   "outputs": [],
   "source": [
    "layout_zone = {\"xmin\"   : 0,\n",
    "               \"ymin\"   : 0,\n",
    "               \"width\"  : 2000,\n",
    "               \"height\" : 2000}\n",
    "\n",
    "conciliation_quota  = 1\n",
    "\n",
    "critical_amount     = 100\n",
    "\n",
    "p   = random_place_mcnc(participants, layout_zone, 666)\n",
    "\n",
    "a = plot_participants(layout_zone, p, 2200, 2200)"
   ]
  },
  {
   "cell_type": "code",
   "execution_count": null,
   "metadata": {},
   "outputs": [],
   "source": [
    "participants            = determine_initial_conditions(p, layout_zone, conciliation_quota, critical_amount)\n"
   ]
  },
  {
   "cell_type": "code",
   "execution_count": null,
   "metadata": {},
   "outputs": [],
   "source": [
    "\n",
    "while True:\n",
    "\n",
    "    participants    = one_round_of_interaction(participants, layout_zone, 'interference', conciliation_quota, critical_amount)\n",
    "\n",
    "    plot_participants(layout_zone, participants, 2200, 2200)\n",
    "\n",
    "    last_moves = {key : value['last-move'] for key,value in participants.items()}\n",
    "\n",
    "    moves = list(last_moves.values())\n",
    "\n",
    "    print(last_moves)\n",
    "\n",
    "    if moves.count('center') == len(participants):\n",
    "        break\n",
    "\n",
    "    #layout_zone         = scale_layout_zone(layout_zone, 0.99)\n",
    "\n",
    "    if layout_zone['width'] < 90:\n",
    "        break"
   ]
  }
 ],
 "metadata": {
  "kernelspec": {
   "display_name": "abf",
   "language": "python",
   "name": "python3"
  },
  "language_info": {
   "codemirror_mode": {
    "name": "ipython",
    "version": 3
   },
   "file_extension": ".py",
   "mimetype": "text/x-python",
   "name": "python",
   "nbconvert_exporter": "python",
   "pygments_lexer": "ipython3",
   "version": "3.12.0"
  }
 },
 "nbformat": 4,
 "nbformat_minor": 2
}
