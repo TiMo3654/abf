{
 "cells": [
  {
   "cell_type": "code",
   "execution_count": 1,
   "metadata": {},
   "outputs": [
    {
     "data": {
      "image/png": "[encoded data removed]",
      "text/plain": [
       "<Figure size 700x700 with 1 Axes>"
      ]
     },
     "metadata": {},
     "output_type": "display_data"
    }
   ],
   "source": [
    "from util import *\n",
    "from generation import *\n",
    "from conditions import *\n",
    "\n",
    "layout_zone         = Rectangle(0,0,50,50)    #{\"xmin\"   : 0, \"ymin\"   : 0, \"width\"  : 100, \"height\" : 100}\n",
    "participants        = generate_unconnected_participants(4, layout_zone, 20, 20, 420)\n",
    "ds_goal             = 15.0\n",
    "\n",
    "plot_size           = 1.1 * layout_zone.width\n",
    "\n",
    "\n",
    "a = plot_participants(layout_zone, participants, plot_size, plot_size, plot_connections= True)"
   ]
  },
  {
   "cell_type": "code",
   "execution_count": 2,
   "metadata": {},
   "outputs": [
    {
     "data": {
      "text/plain": [
       "Participants(p0=Participant(idx='p0', connections=(), xmin=1, ymin=43, width=16, height=13, clashes=Clashes(p0=0, p1=0, p2=0, p3=0), aversions=Aversions(p0=0, p1=0, p2=0, p3=0), interference=0, overlap_with_idx=(), turmoil=0, relaxed_connections=0, protrusion_status='', protrusion_extend=0, protruded_zone_edges=(), healthy=True, compliant=True, yield_polygon=(), freespace=(), secondary_freespace_north_east=(), secondary_freespace_south_east=(), secondary_freespace_south_west=(), secondary_freespace_north_west=(), last_move='', color='olive'), p1=Participant(idx='p1', connections=(), xmin=6, ymin=48, width=8, height=5, clashes=Clashes(p0=0, p1=0, p2=0, p3=0), aversions=Aversions(p0=0, p1=0, p2=0, p3=0), interference=0, overlap_with_idx=(), turmoil=0, relaxed_connections=0, protrusion_status='', protrusion_extend=0, protruded_zone_edges=(), healthy=True, compliant=True, yield_polygon=(), freespace=(), secondary_freespace_north_east=(), secondary_freespace_south_east=(), secondary_freespace_south_west=(), secondary_freespace_north_west=(), last_move='', color='slategrey'), p2=Participant(idx='p2', connections=(), xmin=20, ymin=31, width=5, height=9, clashes=Clashes(p0=0, p1=0, p2=0, p3=0), aversions=Aversions(p0=0, p1=0, p2=0, p3=0), interference=0, overlap_with_idx=(), turmoil=0, relaxed_connections=0, protrusion_status='', protrusion_extend=0, protruded_zone_edges=(), healthy=True, compliant=True, yield_polygon=(), freespace=(), secondary_freespace_north_east=(), secondary_freespace_south_east=(), secondary_freespace_south_west=(), secondary_freespace_north_west=(), last_move='', color='thistle'), p3=Participant(idx='p3', connections=(), xmin=21, ymin=27, width=13, height=8, clashes=Clashes(p0=0, p1=0, p2=0, p3=0), aversions=Aversions(p0=0, p1=0, p2=0, p3=0), interference=0, overlap_with_idx=(), turmoil=0, relaxed_connections=0, protrusion_status='', protrusion_extend=0, protruded_zone_edges=(), healthy=True, compliant=True, yield_polygon=(), freespace=(), secondary_freespace_north_east=(), secondary_freespace_south_east=(), secondary_freespace_south_west=(), secondary_freespace_north_west=(), last_move='', color='maroon'))"
      ]
     },
     "execution_count": 2,
     "metadata": {},
     "output_type": "execute_result"
    }
   ],
   "source": [
    "participants"
   ]
  },
  {
   "cell_type": "code",
   "execution_count": 3,
   "metadata": {},
   "outputs": [
    {
     "data": {
      "text/plain": [
       "((), [False, False, False, False, False, False])"
      ]
     },
     "execution_count": 3,
     "metadata": {},
     "output_type": "execute_result"
    }
   ],
   "source": [
    "calculate_overlap(participants.p3, participants.p1)"
   ]
  },
  {
   "cell_type": "code",
   "execution_count": 4,
   "metadata": {},
   "outputs": [],
   "source": [
    "pstar               = participants.p2"
   ]
  },
  {
   "cell_type": "code",
   "execution_count": 5,
   "metadata": {},
   "outputs": [
    {
     "data": {
      "text/plain": [
       "['west', 'north']"
      ]
     },
     "execution_count": 5,
     "metadata": {},
     "output_type": "execute_result"
    }
   ],
   "source": [
    "# determine free edges\n",
    "\n",
    "\n",
    "conditions          = [calculate_lateral_condition(pstar, p , 0.5, 0.5, 100) for p in participants if p.idx != pstar.idx]\n",
    "\n",
    "masks_edges         = [cond.locations for cond in conditions]\n",
    "\n",
    "free_edges_bool     = [all(mask[i] for mask in masks_edges) for i in range(4)]\n",
    "\n",
    "free_edges_str      = [y for (x,y) in zip(free_edges_bool, ['west', 'east', 'north', 'south']) if x]\n",
    "\n",
    "free_edges_str"
   ]
  },
  {
   "cell_type": "code",
   "execution_count": 6,
   "metadata": {},
   "outputs": [
    {
     "data": {
      "text/plain": [
       "Rectangle(xmin=0, ymin=31, width=25, height=19)"
      ]
     },
     "execution_count": 6,
     "metadata": {},
     "output_type": "execute_result"
    }
   ],
   "source": [
    "calclulate_free_space(pstar, free_edges_str, participants, layout_zone)"
   ]
  },
  {
   "cell_type": "code",
   "execution_count": 7,
   "metadata": {},
   "outputs": [
    {
     "data": {
      "text/plain": [
       "[('left', 'top'), ('right', 'top'), ('left', 'bottom')]"
      ]
     },
     "execution_count": 7,
     "metadata": {},
     "output_type": "execute_result"
    }
   ],
   "source": [
    "# determine free vertices\n",
    "\n",
    "overlaps            = [cond.overlap for cond in conditions if cond.overlap]\n",
    "\n",
    "#print(overlaps)\n",
    "\n",
    "free_vertices_bool       = calculate_free_corners(pstar, overlaps, layout_zone)\n",
    "\n",
    "#print(free_vertices_bool)\n",
    "free_vertices_str   = [y for (x,y) in zip(free_vertices_bool, [('left', 'top'), ('right', 'top'), ('left', 'bottom'), ('right', 'bottom')]) if x]\n",
    "\n",
    "free_vertices_str"
   ]
  },
  {
   "cell_type": "code",
   "execution_count": 8,
   "metadata": {},
   "outputs": [
    {
     "data": {
      "text/plain": [
       "(Rectangle(xmin=0, ymin=0, width=50, height=50),\n",
       " Rectangle(xmin=0, ymin=35, width=50, height=15),\n",
       " (),\n",
       " Rectangle(xmin=0, ymin=0, width=21, height=50))"
      ]
     },
     "execution_count": 8,
     "metadata": {},
     "output_type": "execute_result"
    }
   ],
   "source": [
    "calclulate_all_secondary_free_spaces(pstar, free_vertices_str, participants, layout_zone)"
   ]
  },
  {
   "cell_type": "code",
   "execution_count": 9,
   "metadata": {},
   "outputs": [
    {
     "data": {
      "text/plain": [
       "Participant(idx='p2', connections=(), xmin=20, ymin=31, width=5, height=9, clashes=Clashes(p0=0, p1=0, p3=1), aversions=Aversions(p0=0.0, p1=0.0, p3=1664), interference=1664.0, overlap_with_idx=('p3',), turmoil=0.0, relaxed_connections=0, protrusion_status='safe', protrusion_extend=(0, 0), protruded_zone_edges=(), healthy=True, compliant=True, yield_polygon=(), freespace=Rectangle(xmin=0, ymin=31, width=25, height=19), secondary_freespace_north_east=Rectangle(xmin=0, ymin=35, width=50, height=15), secondary_freespace_south_east=(), secondary_freespace_south_west=Rectangle(xmin=0, ymin=0, width=21, height=50), secondary_freespace_north_west=Rectangle(xmin=0, ymin=0, width=50, height=50), last_move='', color='thistle')"
      ]
     },
     "execution_count": 9,
     "metadata": {},
     "output_type": "execute_result"
    }
   ],
   "source": [
    "calculate_conditions(pstar, participants, layout_zone, 0.5, 0.5, 100)"
   ]
  },
  {
   "cell_type": "code",
   "execution_count": 10,
   "metadata": {},
   "outputs": [
    {
     "data": {
      "text/plain": [
       "Participants(p0=Participant(idx='p0', connections=(), xmin=1, ymin=43, width=16, height=13, clashes=Clashes(p1=1, p2=0, p3=0), aversions=Aversions(p1=1600, p2=0.0, p3=0.0), interference=1600.0, overlap_with_idx=('p1',), turmoil=0.0, relaxed_connections=0, protrusion_status='prone', protrusion_extend=(0, -6), protruded_zone_edges=('north',), healthy=True, compliant=True, yield_polygon=(), freespace=Rectangle(xmin=0, ymin=0, width=50, height=50), secondary_freespace_north_east=(), secondary_freespace_south_east=(), secondary_freespace_south_west=Rectangle(xmin=0, ymin=0, width=50, height=50), secondary_freespace_north_west=(), last_move='', color='olive'), p1=Participant(idx='p1', connections=(), xmin=6, ymin=48, width=8, height=5, clashes=Clashes(p0=1, p2=0, p3=0), aversions=Aversions(p0=8320, p2=0.0, p3=0.0), interference=8320.0, overlap_with_idx=('p0',), turmoil=0.0, relaxed_connections=0, protrusion_status='prone', protrusion_extend=(0, -3), protruded_zone_edges=('north',), healthy=True, compliant=True, yield_polygon=(), freespace=(), secondary_freespace_north_east=(), secondary_freespace_south_east=(), secondary_freespace_south_west=(), secondary_freespace_north_west=(), last_move='', color='slategrey'), p2=Participant(idx='p2', connections=(), xmin=20, ymin=31, width=5, height=9, clashes=Clashes(p0=0, p1=0, p3=1), aversions=Aversions(p0=0.0, p1=0.0, p3=1664), interference=1664.0, overlap_with_idx=('p3',), turmoil=0.0, relaxed_connections=0, protrusion_status='safe', protrusion_extend=(0, 0), protruded_zone_edges=(), healthy=True, compliant=True, yield_polygon=(), freespace=Rectangle(xmin=0, ymin=31, width=25, height=19), secondary_freespace_north_east=Rectangle(xmin=0, ymin=35, width=50, height=15), secondary_freespace_south_east=(), secondary_freespace_south_west=Rectangle(xmin=0, ymin=0, width=21, height=50), secondary_freespace_north_west=Rectangle(xmin=0, ymin=0, width=50, height=50), last_move='', color='thistle'), p3=Participant(idx='p3', connections=(), xmin=21, ymin=27, width=13, height=8, clashes=Clashes(p0=0, p1=0, p2=1), aversions=Aversions(p0=0.0, p1=0.0, p2=720), interference=720.0, overlap_with_idx=('p2',), turmoil=0.0, relaxed_connections=0, protrusion_status='safe', protrusion_extend=(0, 0), protruded_zone_edges=(), healthy=True, compliant=True, yield_polygon=(), freespace=Rectangle(xmin=21, ymin=0, width=29, height=35), secondary_freespace_north_east=Rectangle(xmin=25, ymin=0, width=25, height=50), secondary_freespace_south_east=(), secondary_freespace_south_west=Rectangle(xmin=0, ymin=0, width=50, height=31), secondary_freespace_north_west=(), last_move='', color='maroon'))"
      ]
     },
     "execution_count": 10,
     "metadata": {},
     "output_type": "execute_result"
    }
   ],
   "source": [
    "from swarm import *\n",
    "\n",
    "determine_initial_conditions(participants, layout_zone, 0.5, 100)"
   ]
  },
  {
   "cell_type": "code",
   "execution_count": 11,
   "metadata": {},
   "outputs": [
    {
     "ename": "ValueError",
     "evalue": "min() iterable argument is empty",
     "output_type": "error",
     "traceback": [
      "\u001b[0;31m---------------------------------------------------------------------------\u001b[0m",
      "\u001b[0;31mValueError\u001b[0m                                Traceback (most recent call last)",
      "Cell \u001b[0;32mIn[11], line 1\u001b[0m\n\u001b[0;32m----> 1\u001b[0m \u001b[43mone_round_of_interaction\u001b[49m\u001b[43m(\u001b[49m\u001b[43mparticipants\u001b[49m\u001b[43m,\u001b[49m\u001b[43m \u001b[49m\u001b[43mlayout_zone\u001b[49m\u001b[43m,\u001b[49m\u001b[43m \u001b[49m\u001b[38;5;124;43m'\u001b[39;49m\u001b[38;5;124;43minterference\u001b[39;49m\u001b[38;5;124;43m'\u001b[39;49m\u001b[43m,\u001b[49m\u001b[43m \u001b[49m\u001b[38;5;241;43m0.5\u001b[39;49m\u001b[43m,\u001b[49m\u001b[43m \u001b[49m\u001b[38;5;241;43m100\u001b[39;49m\u001b[43m)\u001b[49m\n",
      "File \u001b[0;32m~/projects/abf/swarm.py:41\u001b[0m, in \u001b[0;36mone_round_of_interaction\u001b[0;34m(participants, layout_zone, metric, conciliation_quota, critical_amount)\u001b[0m\n\u001b[1;32m     36\u001b[0m A_rotated_updated           \u001b[38;5;241m=\u001b[39m calculate_conditions(A_rotated, new_participants, layout_zone, leeway_coefficient, conciliation_quota, critical_amount)\n\u001b[1;32m     39\u001b[0m possible_new_positions      \u001b[38;5;241m=\u001b[39m action_exploration(A, new_participants, layout_zone, leeway_coefficient, conciliation_quota, critical_amount)\n\u001b[0;32m---> 41\u001b[0m possible_new_positions_rot  \u001b[38;5;241m=\u001b[39m \u001b[43maction_exploration\u001b[49m\u001b[43m(\u001b[49m\u001b[43mA_rotated_updated\u001b[49m\u001b[43m,\u001b[49m\u001b[43m \u001b[49m\u001b[43mnew_participants\u001b[49m\u001b[43m,\u001b[49m\u001b[43m \u001b[49m\u001b[43mlayout_zone\u001b[49m\u001b[43m,\u001b[49m\u001b[43m \u001b[49m\u001b[43mleeway_coefficient\u001b[49m\u001b[43m,\u001b[49m\u001b[43m \u001b[49m\u001b[43mconciliation_quota\u001b[49m\u001b[43m,\u001b[49m\u001b[43m \u001b[49m\u001b[43mcritical_amount\u001b[49m\u001b[43m)\u001b[49m\n\u001b[1;32m     43\u001b[0m new_position                \u001b[38;5;241m=\u001b[39m determine_best_move(possible_new_positions \u001b[38;5;241m+\u001b[39m possible_new_positions_rot, participants, metric)\n\u001b[1;32m     45\u001b[0m moved_participants_dict     \u001b[38;5;241m=\u001b[39m {p\u001b[38;5;241m.\u001b[39midx : p \u001b[38;5;28;01mfor\u001b[39;00m p \u001b[38;5;129;01min\u001b[39;00m new_position}\n",
      "File \u001b[0;32m~/projects/abf/exploration.py:253\u001b[0m, in \u001b[0;36maction_exploration\u001b[0;34m(A, participants, layout_zone, leeway_coeffcient, conciliation_quota, critical_amount)\u001b[0m\n\u001b[1;32m    249\u001b[0m \u001b[38;5;28;01mfor\u001b[39;00m position \u001b[38;5;129;01min\u001b[39;00m align_positions:\n\u001b[1;32m    251\u001b[0m     action                                  \u001b[38;5;241m=\u001b[39m \u001b[38;5;28;01mlambda\u001b[39;00m P: evade(P, layout_zone, edge, position)\n\u001b[0;32m--> 253\u001b[0m     adjuvant_position, valid_position, _    \u001b[38;5;241m=\u001b[39m \u001b[43mexplore_action\u001b[49m\u001b[43m(\u001b[49m\u001b[43mA\u001b[49m\u001b[43m,\u001b[49m\u001b[43m \u001b[49m\u001b[43mparticipants\u001b[49m\u001b[43m,\u001b[49m\u001b[43m \u001b[49m\u001b[43mlayout_zone\u001b[49m\u001b[43m,\u001b[49m\u001b[43m \u001b[49m\u001b[43mleeway_coeffcient\u001b[49m\u001b[43m,\u001b[49m\u001b[43m \u001b[49m\u001b[43mconciliation_quota\u001b[49m\u001b[43m,\u001b[49m\u001b[43m \u001b[49m\u001b[43mcritical_amount\u001b[49m\u001b[43m,\u001b[49m\u001b[43m \u001b[49m\u001b[43maction\u001b[49m\u001b[43m)\u001b[49m  \n\u001b[1;32m    255\u001b[0m \u001b[38;5;28;01mif\u001b[39;00m adjuvant_position:            \n\u001b[1;32m    256\u001b[0m     \u001b[38;5;28;01mreturn\u001b[39;00m [adjuvant_position]\n",
      "File \u001b[0;32m~/projects/abf/exploration.py:61\u001b[0m, in \u001b[0;36mexplore_action\u001b[0;34m(A, participants, layout_zone, leeway_coeffcient, conciliation_quota, critical_amount, action)\u001b[0m\n\u001b[1;32m     57\u001b[0m participants_updated        \u001b[38;5;241m=\u001b[39m participants\u001b[38;5;241m.\u001b[39m_replace(\u001b[38;5;241m*\u001b[39m\u001b[38;5;241m*\u001b[39mmoved_participants_dict)\n\u001b[1;32m     59\u001b[0m \u001b[38;5;66;03m# Evaluate new positions (update conditions for the moved participants)\u001b[39;00m\n\u001b[0;32m---> 61\u001b[0m moved_participants_updated  \u001b[38;5;241m=\u001b[39m [\u001b[43mcalculate_conditions\u001b[49m\u001b[43m(\u001b[49m\u001b[43mA\u001b[49m\u001b[43m,\u001b[49m\u001b[43m \u001b[49m\u001b[43mparticipants_updated\u001b[49m\u001b[43m,\u001b[49m\u001b[43m \u001b[49m\u001b[43mlayout_zone\u001b[49m\u001b[43m,\u001b[49m\u001b[43m \u001b[49m\u001b[43mleeway_coeffcient\u001b[49m\u001b[43m,\u001b[49m\u001b[43m \u001b[49m\u001b[43mconciliation_quota\u001b[49m\u001b[43m,\u001b[49m\u001b[43m \u001b[49m\u001b[43mcritical_amount\u001b[49m\u001b[43m)\u001b[49m \u001b[38;5;28;01mfor\u001b[39;00m A \u001b[38;5;129;01min\u001b[39;00m moved_participants]\n\u001b[1;32m     63\u001b[0m \u001b[38;5;66;03m# Classify moves\u001b[39;00m\n\u001b[1;32m     65\u001b[0m classifications             \u001b[38;5;241m=\u001b[39m [classify_action(A) \u001b[38;5;28;01mfor\u001b[39;00m A \u001b[38;5;129;01min\u001b[39;00m moved_participants_updated]\n",
      "File \u001b[0;32m~/projects/abf/conditions.py:430\u001b[0m, in \u001b[0;36mcalculate_conditions\u001b[0;34m(A, participants, layout_zone, leeway_coeffcient, conciliation_quota, critical_amount)\u001b[0m\n\u001b[1;32m    426\u001b[0m yield_polygon                   \u001b[38;5;241m=\u001b[39m () \u001b[38;5;66;03m# TODO: Rethink yield function\u001b[39;00m\n\u001b[1;32m    428\u001b[0m free_space                      \u001b[38;5;241m=\u001b[39m calclulate_free_space(A, free_edges_str, participants, layout_zone)\n\u001b[0;32m--> 430\u001b[0m sfs_nw, sfs_ne, sfs_se, sfs_sw  \u001b[38;5;241m=\u001b[39m \u001b[43mcalclulate_all_secondary_free_spaces\u001b[49m\u001b[43m(\u001b[49m\u001b[43mA\u001b[49m\u001b[43m,\u001b[49m\u001b[43m \u001b[49m\u001b[43mfree_vertices_str\u001b[49m\u001b[43m,\u001b[49m\u001b[43m \u001b[49m\u001b[43mparticipants\u001b[49m\u001b[43m,\u001b[49m\u001b[43m \u001b[49m\u001b[43mlayout_zone\u001b[49m\u001b[43m)\u001b[49m     \n\u001b[1;32m    432\u001b[0m \u001b[38;5;66;03m# update A\u001b[39;00m\n\u001b[1;32m    434\u001b[0m new_A \u001b[38;5;241m=\u001b[39m A\u001b[38;5;241m.\u001b[39m_replace(  clashes                \u001b[38;5;241m=\u001b[39m new_clashes_tuple\n\u001b[1;32m    435\u001b[0m                    , aversions              \u001b[38;5;241m=\u001b[39m new_aversions_tuple\n\u001b[1;32m    436\u001b[0m                    , interference           \u001b[38;5;241m=\u001b[39m interference\n\u001b[0;32m   (...)\u001b[0m\n\u001b[1;32m    449\u001b[0m                    , secondary_freespace_south_west \u001b[38;5;241m=\u001b[39m sfs_sw\n\u001b[1;32m    450\u001b[0m                    , secondary_freespace_north_west \u001b[38;5;241m=\u001b[39m sfs_nw )\n",
      "File \u001b[0;32m~/projects/abf/conditions.py:279\u001b[0m, in \u001b[0;36mcalclulate_all_secondary_free_spaces\u001b[0;34m(A, free_vertices, participants, layout_zone)\u001b[0m\n\u001b[1;32m    275\u001b[0m veip                            \u001b[38;5;241m=\u001b[39m [(B\u001b[38;5;241m.\u001b[39mymin, B\u001b[38;5;241m.\u001b[39mymin \u001b[38;5;241m+\u001b[39m B\u001b[38;5;241m.\u001b[39mheight)   \u001b[38;5;28;01mfor\u001b[39;00m B \u001b[38;5;129;01min\u001b[39;00m participants \u001b[38;5;28;01mif\u001b[39;00m (B\u001b[38;5;241m.\u001b[39mxmin \u001b[38;5;241m<\u001b[39m\u001b[38;5;241m=\u001b[39m A\u001b[38;5;241m.\u001b[39mxmin \u001b[38;5;241m+\u001b[39m A\u001b[38;5;241m.\u001b[39mwidth \u001b[38;5;241m<\u001b[39m\u001b[38;5;241m=\u001b[39m B\u001b[38;5;241m.\u001b[39mxmin \u001b[38;5;241m+\u001b[39m B\u001b[38;5;241m.\u001b[39mwidth) \u001b[38;5;129;01mand\u001b[39;00m B\u001b[38;5;241m.\u001b[39midx \u001b[38;5;241m!=\u001b[39m A\u001b[38;5;241m.\u001b[39midx]\n\u001b[1;32m    277\u001b[0m \u001b[38;5;66;03m#print(veip)\u001b[39;00m\n\u001b[0;32m--> 279\u001b[0m secondary_free_space_north_west \u001b[38;5;241m=\u001b[39m \u001b[43mcalculate_secondary_free_space\u001b[49m\u001b[43m(\u001b[49m\u001b[43mA\u001b[49m\u001b[43m,\u001b[49m\u001b[43m \u001b[49m\u001b[43m(\u001b[49m\u001b[38;5;124;43m'\u001b[39;49m\u001b[38;5;124;43mleft\u001b[39;49m\u001b[38;5;124;43m'\u001b[39;49m\u001b[43m,\u001b[49m\u001b[43m \u001b[49m\u001b[38;5;124;43m'\u001b[39;49m\u001b[38;5;124;43mtop\u001b[39;49m\u001b[38;5;124;43m'\u001b[39;49m\u001b[43m)\u001b[49m\u001b[43m,\u001b[49m\u001b[43m \u001b[49m\u001b[43mhsip\u001b[49m\u001b[43m,\u001b[49m\u001b[43m \u001b[49m\u001b[43mhnip\u001b[49m\u001b[43m,\u001b[49m\u001b[43m \u001b[49m\u001b[43mvwip\u001b[49m\u001b[43m,\u001b[49m\u001b[43m \u001b[49m\u001b[43mveip\u001b[49m\u001b[43m,\u001b[49m\u001b[43m \u001b[49m\u001b[43mlayout_zone\u001b[49m\u001b[43m)\u001b[49m \u001b[38;5;28;01mif\u001b[39;00m (\u001b[38;5;124m'\u001b[39m\u001b[38;5;124mleft\u001b[39m\u001b[38;5;124m'\u001b[39m, \u001b[38;5;124m'\u001b[39m\u001b[38;5;124mtop\u001b[39m\u001b[38;5;124m'\u001b[39m) \u001b[38;5;129;01min\u001b[39;00m free_vertices \u001b[38;5;28;01melse\u001b[39;00m ()\n\u001b[1;32m    281\u001b[0m secondary_free_space_north_east \u001b[38;5;241m=\u001b[39m calculate_secondary_free_space(A, (\u001b[38;5;124m'\u001b[39m\u001b[38;5;124mright\u001b[39m\u001b[38;5;124m'\u001b[39m, \u001b[38;5;124m'\u001b[39m\u001b[38;5;124mtop\u001b[39m\u001b[38;5;124m'\u001b[39m), hsip, hnip, vwip, veip, layout_zone) \u001b[38;5;28;01mif\u001b[39;00m (\u001b[38;5;124m'\u001b[39m\u001b[38;5;124mright\u001b[39m\u001b[38;5;124m'\u001b[39m, \u001b[38;5;124m'\u001b[39m\u001b[38;5;124mtop\u001b[39m\u001b[38;5;124m'\u001b[39m) \u001b[38;5;129;01min\u001b[39;00m free_vertices \u001b[38;5;28;01melse\u001b[39;00m ()\n\u001b[1;32m    283\u001b[0m secondary_free_space_south_east \u001b[38;5;241m=\u001b[39m calculate_secondary_free_space(A, (\u001b[38;5;124m'\u001b[39m\u001b[38;5;124mright\u001b[39m\u001b[38;5;124m'\u001b[39m, \u001b[38;5;124m'\u001b[39m\u001b[38;5;124mbottom\u001b[39m\u001b[38;5;124m'\u001b[39m), hsip, hnip, vwip, veip, layout_zone) \u001b[38;5;28;01mif\u001b[39;00m (\u001b[38;5;124m'\u001b[39m\u001b[38;5;124mright\u001b[39m\u001b[38;5;124m'\u001b[39m, \u001b[38;5;124m'\u001b[39m\u001b[38;5;124mbottom\u001b[39m\u001b[38;5;124m'\u001b[39m) \u001b[38;5;129;01min\u001b[39;00m free_vertices \u001b[38;5;28;01melse\u001b[39;00m ()\n",
      "File \u001b[0;32m~/projects/abf/conditions.py:244\u001b[0m, in \u001b[0;36mcalculate_secondary_free_space\u001b[0;34m(A, vertex, horizontal_south_inline_participants, horizontal_north_inline_participants, vertical_west_inline_participants, vertical_east_inline_participants, layout_zone)\u001b[0m\n\u001b[1;32m    241\u001b[0m \u001b[38;5;66;03m# Calculate border\u001b[39;00m\n\u001b[1;32m    243\u001b[0m lower_border_vertical                   \u001b[38;5;241m=\u001b[39m \u001b[38;5;28mmax\u001b[39m([lb[\u001b[38;5;241m1\u001b[39m] \u001b[38;5;28;01mfor\u001b[39;00m lb \u001b[38;5;129;01min\u001b[39;00m vertical_west_inline_participants_f \u001b[38;5;28;01mif\u001b[39;00m lb[\u001b[38;5;241m1\u001b[39m] \u001b[38;5;241m<\u001b[39m corner_y]) \u001b[38;5;28;01mif\u001b[39;00m vertex[\u001b[38;5;241m0\u001b[39m] \u001b[38;5;241m==\u001b[39m \u001b[38;5;124m'\u001b[39m\u001b[38;5;124mleft\u001b[39m\u001b[38;5;124m'\u001b[39m \u001b[38;5;28;01melse\u001b[39;00m \u001b[38;5;28mmax\u001b[39m([lb[\u001b[38;5;241m1\u001b[39m] \u001b[38;5;28;01mfor\u001b[39;00m lb \u001b[38;5;129;01min\u001b[39;00m vertical_east_inline_participants_f \u001b[38;5;28;01mif\u001b[39;00m lb[\u001b[38;5;241m1\u001b[39m] \u001b[38;5;241m<\u001b[39m corner_y])\n\u001b[0;32m--> 244\u001b[0m upper_border_vertical                   \u001b[38;5;241m=\u001b[39m \u001b[38;5;28;43mmin\u001b[39;49m\u001b[43m(\u001b[49m\u001b[43m[\u001b[49m\u001b[43mub\u001b[49m\u001b[43m[\u001b[49m\u001b[38;5;241;43m0\u001b[39;49m\u001b[43m]\u001b[49m\u001b[43m \u001b[49m\u001b[38;5;28;43;01mfor\u001b[39;49;00m\u001b[43m \u001b[49m\u001b[43mub\u001b[49m\u001b[43m \u001b[49m\u001b[38;5;129;43;01min\u001b[39;49;00m\u001b[43m \u001b[49m\u001b[43mvertical_west_inline_participants_f\u001b[49m\u001b[43m \u001b[49m\u001b[38;5;28;43;01mif\u001b[39;49;00m\u001b[43m \u001b[49m\u001b[43mub\u001b[49m\u001b[43m[\u001b[49m\u001b[38;5;241;43m0\u001b[39;49m\u001b[43m]\u001b[49m\u001b[43m \u001b[49m\u001b[38;5;241;43m>\u001b[39;49m\u001b[43m \u001b[49m\u001b[43mcorner_y\u001b[49m\u001b[43m]\u001b[49m\u001b[43m)\u001b[49m \u001b[38;5;28;01mif\u001b[39;00m vertex[\u001b[38;5;241m0\u001b[39m] \u001b[38;5;241m==\u001b[39m \u001b[38;5;124m'\u001b[39m\u001b[38;5;124mleft\u001b[39m\u001b[38;5;124m'\u001b[39m \u001b[38;5;28;01melse\u001b[39;00m \u001b[38;5;28mmin\u001b[39m([ub[\u001b[38;5;241m0\u001b[39m] \u001b[38;5;28;01mfor\u001b[39;00m ub \u001b[38;5;129;01min\u001b[39;00m vertical_east_inline_participants_f \u001b[38;5;28;01mif\u001b[39;00m ub[\u001b[38;5;241m0\u001b[39m] \u001b[38;5;241m>\u001b[39m corner_y])\n\u001b[1;32m    247\u001b[0m left_border_horizontal                  \u001b[38;5;241m=\u001b[39m \u001b[38;5;28mmax\u001b[39m([lb[\u001b[38;5;241m1\u001b[39m] \u001b[38;5;28;01mfor\u001b[39;00m lb \u001b[38;5;129;01min\u001b[39;00m horizontal_south_inline_participants_f \u001b[38;5;28;01mif\u001b[39;00m lb[\u001b[38;5;241m1\u001b[39m] \u001b[38;5;241m<\u001b[39m corner_x]) \u001b[38;5;28;01mif\u001b[39;00m vertex[\u001b[38;5;241m1\u001b[39m] \u001b[38;5;241m==\u001b[39m \u001b[38;5;124m'\u001b[39m\u001b[38;5;124mbottom\u001b[39m\u001b[38;5;124m'\u001b[39m \u001b[38;5;28;01melse\u001b[39;00m \u001b[38;5;28mmax\u001b[39m([lb[\u001b[38;5;241m1\u001b[39m] \u001b[38;5;28;01mfor\u001b[39;00m lb \u001b[38;5;129;01min\u001b[39;00m horizontal_north_inline_participants_f \u001b[38;5;28;01mif\u001b[39;00m lb[\u001b[38;5;241m1\u001b[39m] \u001b[38;5;241m<\u001b[39m corner_x])\n\u001b[1;32m    248\u001b[0m right_border_horizontal                 \u001b[38;5;241m=\u001b[39m \u001b[38;5;28mmin\u001b[39m([rb[\u001b[38;5;241m0\u001b[39m] \u001b[38;5;28;01mfor\u001b[39;00m rb \u001b[38;5;129;01min\u001b[39;00m horizontal_south_inline_participants_f \u001b[38;5;28;01mif\u001b[39;00m rb[\u001b[38;5;241m0\u001b[39m] \u001b[38;5;241m>\u001b[39m corner_x]) \u001b[38;5;28;01mif\u001b[39;00m vertex[\u001b[38;5;241m1\u001b[39m] \u001b[38;5;241m==\u001b[39m \u001b[38;5;124m'\u001b[39m\u001b[38;5;124mbottom\u001b[39m\u001b[38;5;124m'\u001b[39m \u001b[38;5;28;01melse\u001b[39;00m \u001b[38;5;28mmin\u001b[39m([rb[\u001b[38;5;241m0\u001b[39m] \u001b[38;5;28;01mfor\u001b[39;00m rb \u001b[38;5;129;01min\u001b[39;00m horizontal_north_inline_participants_f \u001b[38;5;28;01mif\u001b[39;00m rb[\u001b[38;5;241m0\u001b[39m] \u001b[38;5;241m>\u001b[39m corner_x])\n",
      "\u001b[0;31mValueError\u001b[0m: min() iterable argument is empty"
     ]
    }
   ],
   "source": [
    "one_round_of_interaction(participants, layout_zone, 'interference', 0.5, 100)"
   ]
  }
 ],
 "metadata": {
  "kernelspec": {
   "display_name": "abf",
   "language": "python",
   "name": "python3"
  },
  "language_info": {
   "codemirror_mode": {
    "name": "ipython",
    "version": 3
   },
   "file_extension": ".py",
   "mimetype": "text/x-python",
   "name": "python",
   "nbconvert_exporter": "python",
   "pygments_lexer": "ipython3",
   "version": "3.12.0"
  }
 },
 "nbformat": 4,
 "nbformat_minor": 2
}
